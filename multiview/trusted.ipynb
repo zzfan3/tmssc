{
 "cells": [
  {
   "cell_type": "code",
   "execution_count": 42,
   "metadata": {},
   "outputs": [],
   "source": [
    "import torch\n",
    "import scipy.io\n",
    "import numpy as np"
   ]
  },
  {
   "cell_type": "code",
   "execution_count": 43,
   "metadata": {},
   "outputs": [],
   "source": [
    "\"\"\"\n",
    ":param alpha: All Dirichlet distribution parameters.\n",
    ":return: Combined Dirichlet distribution parameters.\n",
    "\"\"\"\n",
    "def DS_Combin_two(alpha1, alpha2, classes):\n",
    "    \"\"\"\n",
    "    :param alpha1: Dirichlet distribution parameters of view 1\n",
    "    :param alpha2: Dirichlet distribution parameters of view 2\n",
    "    :return: Combined Dirichlet distribution parameters\n",
    "    \"\"\"\n",
    "    alpha = dict()\n",
    "    alpha[0], alpha[1] = torch.Tensor(alpha1), torch.Tensor(alpha2)\n",
    "    b, S, E, u = dict(), dict(), dict(), dict()\n",
    "    for v in range(2):\n",
    "        S[v] = torch.sum(alpha[v], dim=1, keepdim=True)\n",
    "        E[v] = alpha[v]-1\n",
    "        b[v] = E[v]/(S[v].expand(E[v].shape))\n",
    "        u[v] = classes/S[v]\n",
    "\n",
    "    # b^0 @ b^(0+1)\n",
    "    bb = torch.bmm(b[0].view(-1, classes, 1), b[1].view(-1, 1, classes))\n",
    "    # b^0 * u^1\n",
    "    uv1_expand = u[1].expand(b[0].shape)\n",
    "    bu = torch.mul(b[0], uv1_expand)\n",
    "    # b^1 * u^0\n",
    "    uv_expand = u[0].expand(b[0].shape)\n",
    "    ub = torch.mul(b[1], uv_expand)\n",
    "    # calculate C\n",
    "    bb_sum = torch.sum(bb, dim=(1, 2), out=None)\n",
    "    bb_diag = torch.diagonal(bb, dim1=-2, dim2=-1).sum(-1)\n",
    "    C = bb_sum - bb_diag\n",
    "\n",
    "    # calculate b^a\n",
    "    b_a = (torch.mul(b[0], b[1]) + bu + ub)/((1-C).view(-1, 1).expand(b[0].shape))\n",
    "    # calculate u^a\n",
    "    u_a = torch.mul(u[0], u[1])/((1-C).view(-1, 1).expand(u[0].shape))\n",
    "\n",
    "    # calculate new S\n",
    "    S_a = classes / u_a\n",
    "    # calculate new e_k\n",
    "    e_a = torch.mul(b_a, S_a.expand(b_a.shape))\n",
    "    alpha_a = e_a + 1\n",
    "    return alpha_a"
   ]
  },
  {
   "cell_type": "code",
   "execution_count": 44,
   "metadata": {},
   "outputs": [],
   "source": [
    "def DS_Combin(alpha,classes):\n",
    "\n",
    "    for v in range(len(alpha)-1):\n",
    "        if v==0:\n",
    "            alpha_a = DS_Combin_two(alpha[0], alpha[1], classes)\n",
    "        else:\n",
    "            alpha_a = DS_Combin_two(alpha_a, alpha[v+1], classes)\n",
    "    return alpha_a"
   ]
  },
  {
   "cell_type": "code",
   "execution_count": 45,
   "metadata": {},
   "outputs": [],
   "source": [
    "data1 = scipy.io.loadmat('evidence1_05.mat')\n",
    "data2 = scipy.io.loadmat('evidence2_05.mat')\n",
    "data3 = scipy.io.loadmat('evidence3_05.mat')\n",
    "data4 = scipy.io.loadmat('evidence4_05.mat')\n",
    "data5 = scipy.io.loadmat('evidence5_05.mat')\n",
    "# data6 = scipy.io.loadmat('evidence6_01.mat')\n",
    "evidence = dict()\n",
    "evidence[0] = data1['NetoutTest']\n",
    "evidence[1] = data2['NetoutTest']\n",
    "evidence[2] = data3['NetoutTest']\n",
    "evidence[3] = data4['NetoutTest']\n",
    "evidence[4] = data5['NetoutTest']\n",
    "# evidence[5] = data6['NetoutTest']"
   ]
  },
  {
   "cell_type": "code",
   "execution_count": 46,
   "metadata": {},
   "outputs": [],
   "source": [
    "# evidence[0] = np.where(evidence[0] > 0, evidence[0], 0)\n",
    "# evidence[1] = np.where(evidence[1] > 0, evidence[1], 0)\n",
    "# evidence[2] = np.where(evidence[2] > 0, evidence[2], 0)\n",
    "# evidence[3] = np.where(evidence[3] > 0, evidence[3], 0)\n",
    "# evidence[4] = np.where(evidence[4] > 0, evidence[4], 0)"
   ]
  },
  {
   "cell_type": "code",
   "execution_count": 47,
   "metadata": {},
   "outputs": [],
   "source": [
    "alpha = dict()\n",
    "for v_num in range(5): #how many views\n",
    "    alpha[v_num] = evidence[v_num] + 1"
   ]
  },
  {
   "cell_type": "code",
   "execution_count": 48,
   "metadata": {},
   "outputs": [],
   "source": [
    "alpha_a = DS_Combin(alpha, 7) #how many classes"
   ]
  },
  {
   "cell_type": "code",
   "execution_count": 49,
   "metadata": {},
   "outputs": [],
   "source": [
    "evidence_a = alpha_a - 1"
   ]
  },
  {
   "cell_type": "code",
   "execution_count": 50,
   "metadata": {},
   "outputs": [
    {
     "data": {
      "text/plain": [
       "'torch.LongTensor'"
      ]
     },
     "execution_count": 50,
     "metadata": {},
     "output_type": "execute_result"
    }
   ],
   "source": [
    "_, predicted = torch.max(evidence_a, 1)\n",
    "predicted.type()"
   ]
  },
  {
   "cell_type": "code",
   "execution_count": 51,
   "metadata": {},
   "outputs": [
    {
     "data": {
      "text/plain": [
       "tensor([0, 0, 0, 0, 0, 0, 0, 0, 0, 0, 0, 0, 0, 0, 0, 0, 0, 0, 0, 0, 0, 0, 0, 0,\n",
       "        0, 0, 0, 0, 0, 0, 0, 0, 0, 0, 0, 0, 0, 0, 0, 0, 0, 0, 0, 0, 0, 0, 0, 0,\n",
       "        0, 0, 0, 0, 0, 0, 0, 0, 0, 0, 0, 0, 0, 0, 0])"
      ]
     },
     "execution_count": 51,
     "metadata": {},
     "output_type": "execute_result"
    }
   ],
   "source": [
    "predicted"
   ]
  },
  {
   "cell_type": "code",
   "execution_count": 52,
   "metadata": {},
   "outputs": [
    {
     "data": {
      "text/plain": [
       "tensor([[5., 3., 6., 4., 0., 5., 2., 4., 0., 5., 1., 0., 6., 3., 2., 3., 3., 0.,\n",
       "         1., 4., 6., 4., 6., 6., 1., 0., 0., 2., 3., 5., 6., 5., 1., 2., 3., 4.,\n",
       "         2., 2., 4., 6., 0., 4., 6., 0., 4., 5., 2., 1., 0., 4., 5., 4., 1., 5.,\n",
       "         4., 0., 2., 0., 1., 2., 3., 1., 3.]])"
      ]
     },
     "execution_count": 52,
     "metadata": {},
     "output_type": "execute_result"
    }
   ],
   "source": [
    "y = scipy.io.loadmat('truth.mat')\n",
    "target = y['test_yy']-1\n",
    "target = torch.Tensor(target)\n",
    "target.T"
   ]
  },
  {
   "cell_type": "code",
   "execution_count": 53,
   "metadata": {},
   "outputs": [
    {
     "name": "stdout",
     "output_type": "stream",
     "text": [
      "====> acc: 0.1746\n"
     ]
    }
   ],
   "source": [
    "correct_num= 0\n",
    "correct_num += (predicted == target.T).sum().item()\n",
    "print('====> acc: {:.4f}'.format(correct_num/target.shape[0]))"
   ]
  },
  {
   "cell_type": "code",
   "execution_count": null,
   "metadata": {},
   "outputs": [],
   "source": []
  },
  {
   "cell_type": "code",
   "execution_count": null,
   "metadata": {},
   "outputs": [],
   "source": []
  }
 ],
 "metadata": {
  "kernelspec": {
   "display_name": "Python 3",
   "language": "python",
   "name": "python3"
  },
  "language_info": {
   "codemirror_mode": {
    "name": "ipython",
    "version": 3
   },
   "file_extension": ".py",
   "mimetype": "text/x-python",
   "name": "python",
   "nbconvert_exporter": "python",
   "pygments_lexer": "ipython3",
   "version": "3.7.3"
  }
 },
 "nbformat": 4,
 "nbformat_minor": 2
}
